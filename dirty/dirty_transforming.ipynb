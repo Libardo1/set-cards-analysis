{
 "cells": [
  {
   "cell_type": "code",
   "execution_count": 1,
   "metadata": {
    "collapsed": true
   },
   "outputs": [],
   "source": [
    "%matplotlib inline\n",
    "import pandas as pd\n",
    "import xmltodict\n",
    "import json"
   ]
  },
  {
   "cell_type": "code",
   "execution_count": 34,
   "metadata": {
    "collapsed": false
   },
   "outputs": [],
   "source": [
    "xmlfile = open(\"../../pixies_data/time-trials-log20110921.xml\", 'r', encoding=\"ISO-8859-1\")\n",
    "buf = xmltodict.parse(xmlfile.read())"
   ]
  },
  {
   "cell_type": "code",
   "execution_count": null,
   "metadata": {
    "collapsed": true
   },
   "outputs": [],
   "source": [
    "# 12s for the shorter, longer should take 275"
   ]
  },
  {
   "cell_type": "code",
   "execution_count": 35,
   "metadata": {
    "collapsed": false
   },
   "outputs": [
    {
     "data": {
      "text/plain": [
       "1"
      ]
     },
     "execution_count": 35,
     "metadata": {},
     "output_type": "execute_result"
    }
   ],
   "source": [
    "len(buf)"
   ]
  },
  {
   "cell_type": "code",
   "execution_count": 36,
   "metadata": {
    "collapsed": false
   },
   "outputs": [
    {
     "data": {
      "text/plain": [
       "35236"
      ]
     },
     "execution_count": 36,
     "metadata": {},
     "output_type": "execute_result"
    }
   ],
   "source": [
    "len(buf['timetrials']['timetrial'])"
   ]
  },
  {
   "cell_type": "code",
   "execution_count": 47,
   "metadata": {
    "collapsed": false
   },
   "outputs": [
    {
     "data": {
      "text/plain": [
       "['username', 'userid', 'started', 'dealt', 'taken']"
      ]
     },
     "execution_count": 47,
     "metadata": {},
     "output_type": "execute_result"
    }
   ],
   "source": [
    "list(buf['timetrials']['timetrial'][10012].keys())"
   ]
  },
  {
   "cell_type": "code",
   "execution_count": 20,
   "metadata": {
    "collapsed": false
   },
   "outputs": [
    {
     "data": {
      "text/plain": [
       "[OrderedDict([('@abstime', '11278'), ('@card0', 'red wiggle shaded 3'), ('@card1', 'purple wiggle shaded 3'), ('@card2', 'green wiggle shaded 3')]),\n",
       " OrderedDict([('@abstime', '30409'), ('@card0', 'green wiggle empty 3'), ('@card1', 'purple oval shaded 2'), ('@card2', 'red rectangle filled 1')]),\n",
       " OrderedDict([('@abstime', '53186'), ('@card0', 'red wiggle empty 2'), ('@card1', 'purple rectangle shaded 3'), ('@card2', 'green oval filled 1')]),\n",
       " OrderedDict([('@abstime', '57820'), ('@card0', 'red wiggle shaded 1'), ('@card1', 'red oval shaded 2'), ('@card2', 'red rectangle shaded 3')]),\n",
       " OrderedDict([('@abstime', '75989'), ('@card0', 'green rectangle filled 3'), ('@card1', 'red oval shaded 3'), ('@card2', 'purple wiggle empty 3')]),\n",
       " OrderedDict([('@abstime', '92286'), ('@card0', 'green wiggle filled 3'), ('@card1', 'purple oval empty 2'), ('@card2', 'red rectangle shaded 1')]),\n",
       " OrderedDict([('@abstime', '96809'), ('@card0', 'red wiggle shaded 2'), ('@card1', 'red wiggle empty 1'), ('@card2', 'red wiggle filled 3')]),\n",
       " OrderedDict([('@abstime', '103312'), ('@card0', 'purple rectangle shaded 2'), ('@card1', 'purple wiggle filled 1'), ('@card2', 'purple oval empty 3')]),\n",
       " OrderedDict([('@abstime', '120711'), ('@card0', 'green rectangle filled 1'), ('@card1', 'red oval filled 2'), ('@card2', 'purple wiggle filled 3')]),\n",
       " OrderedDict([('@abstime', '123776'), ('@card0', 'green oval filled 2'), ('@card1', 'green oval shaded 1'), ('@card2', 'green oval empty 3')]),\n",
       " OrderedDict([('@abstime', '138710'), ('@card0', 'red rectangle empty 2'), ('@card1', 'purple rectangle empty 3'), ('@card2', 'green rectangle empty 1')]),\n",
       " OrderedDict([('@abstime', '141607'), ('@card0', 'purple wiggle empty 2'), ('@card1', 'red wiggle empty 3'), ('@card2', 'green wiggle empty 1')]),\n",
       " OrderedDict([('@abstime', '143827'), ('@card0', 'red rectangle shaded 2'), ('@card1', 'red wiggle filled 1'), ('@card2', 'red oval empty 3')]),\n",
       " OrderedDict([('@abstime', '146728'), ('@card0', 'purple wiggle shaded 1'), ('@card1', 'purple rectangle shaded 1'), ('@card2', 'purple oval shaded 1')]),\n",
       " OrderedDict([('@abstime', '156844'), ('@card0', 'purple wiggle shaded 2'), ('@card1', 'green oval empty 1'), ('@card2', 'red rectangle filled 3')]),\n",
       " OrderedDict([('@abstime', '171078'), ('@card0', 'purple wiggle filled 2'), ('@card1', 'red oval empty 2'), ('@card2', 'green rectangle shaded 2')]),\n",
       " OrderedDict([('@abstime', '176450'), ('@card0', 'green oval filled 3'), ('@card1', 'purple oval filled 3'), ('@card2', 'red oval filled 3')]),\n",
       " OrderedDict([('@abstime', '187097'), ('@card0', 'red rectangle filled 2'), ('@card1', 'green wiggle filled 2'), ('@card2', 'purple oval filled 2')]),\n",
       " OrderedDict([('@abstime', '193528'), ('@card0', 'purple oval shaded 3'), ('@card1', 'red oval filled 1'), ('@card2', 'green oval empty 2')]),\n",
       " OrderedDict([('@abstime', '223254'), ('@card0', 'red rectangle empty 3'), ('@card1', 'purple oval empty 1'), ('@card2', 'green wiggle empty 2')]),\n",
       " OrderedDict([('@abstime', '230577'), ('@card0', 'green wiggle shaded 2'), ('@card1', 'green oval shaded 3'), ('@card2', 'green rectangle shaded 1')]),\n",
       " OrderedDict([('@abstime', '234566'), ('@card0', 'green wiggle shaded 1'), ('@card1', 'green rectangle shaded 3'), ('@card2', 'green oval shaded 2')]),\n",
       " OrderedDict([('@abstime', '237370'), ('@card0', 'purple rectangle filled 1'), ('@card1', 'purple rectangle filled 2'), ('@card2', 'purple rectangle filled 3')]),\n",
       " OrderedDict([('@abstime', '243089'), ('@card0', 'green rectangle empty 3'), ('@card1', 'red rectangle empty 1'), ('@card2', 'purple rectangle empty 2')]),\n",
       " OrderedDict([('@abstime', '250627'), ('@card0', 'purple rectangle empty 1'), ('@card1', 'green wiggle filled 1'), ('@card2', 'red oval shaded 1')])]"
      ]
     },
     "execution_count": 20,
     "metadata": {},
     "output_type": "execute_result"
    }
   ],
   "source": [
    "buf['timetrials']['timetrial'][0]['taken']"
   ]
  },
  {
   "cell_type": "code",
   "execution_count": 38,
   "metadata": {
    "collapsed": false
   },
   "outputs": [
    {
     "name": "stdout",
     "output_type": "stream",
     "text": [
      "{\n",
      "  \"username\": \"Hel\",\n",
      "  \"userid\": \"1\",\n",
      "  \"started\": \"2007-11-29 15:11:16\",\n",
      "  \"dealt\": [\n",
      "    {\n",
      "      \"@abstime\": \"756\",\n",
      "      \"@card\": \"red wiggle empty 2\"\n",
      "    },\n",
      "    {\n",
      "      \"@abstime\": \"1508\",\n",
      "      \"@card\": \"red wiggle shaded 3\"\n",
      "    },\n",
      "    {\n",
      "      \"@abstime\": \"2260\",\n",
      "      \"@card\": \"green oval shaded 1\"\n",
      "    },\n",
      "    {\n",
      "      \"@abstime\": \"3012\",\n",
      "      \"@card\": \"purple rectangle shaded 3\"\n",
      "    },\n",
      "    {\n",
      "      \"@abstime\": \"3764\",\n",
      "      \"@card\": \"green wiggle empty 3\"\n",
      "    },\n",
      "    {\n",
      "      \"@abstime\": \"4516\",\n",
      "      \"@card\": \"purple oval shaded 1\"\n",
      "    },\n",
      "    {\n",
      "      \"@abstime\": \"5268\",\n",
      "      \"@card\": \"purple wiggle shaded 3\"\n",
      "    },\n",
      "    {\n",
      "      \"@abstime\": \"6020\",\n",
      "      \"@card\": \"purple oval shaded 2\"\n",
      "    },\n",
      "    {\n",
      "      \"@abstime\": \"6772\",\n",
      "      \"@card\": \"red rectangle filled 1\"\n",
      "    },\n",
      "    {\n",
      "      \"@abstime\": \"7524\",\n",
      "      \"@card\": \"green wiggle shaded 3\"\n",
      "    },\n",
      "    {\n",
      "      \"@abstime\": \"8276\",\n",
      "      \"@card\": \"purple wiggle empty 3\"\n",
      "    },\n",
      "    {\n",
      "      \"@abstime\": \"9028\",\n",
      "      \"@card\": \"red rectangle shaded 1\"\n",
      "    },\n",
      "    {\n",
      "      \"@abstime\": \"12032\",\n",
      "      \"@card\": \"red oval shaded 2\"\n",
      "    },\n",
      "    {\n",
      "      \"@abstime\": \"12784\",\n",
      "      \"@card\": \"green wiggle filled 3\"\n",
      "    },\n",
      "    {\n",
      "      \"@abstime\": \"13536\",\n",
      "      \"@card\": \"green oval filled 1\"\n",
      "    },\n",
      "    {\n",
      "      \"@abstime\": \"31174\",\n",
      "      \"@card\": \"purple rectangle shaded 2\"\n",
      "    },\n",
      "    {\n",
      "      \"@abstime\": \"31926\",\n",
      "      \"@card\": \"purple wiggle filled 1\"\n",
      "    },\n",
      "    {\n",
      "      \"@abstime\": \"32678\",\n",
      "      \"@card\": \"red oval shaded 3\"\n",
      "    },\n",
      "    {\n",
      "      \"@abstime\": \"53947\",\n",
      "      \"@card\": \"red wiggle shaded 1\"\n",
      "    },\n",
      "    {\n",
      "      \"@abstime\": \"54699\",\n",
      "      \"@card\": \"red rectangle empty 2\"\n",
      "    },\n",
      "    {\n",
      "      \"@abstime\": \"55451\",\n",
      "      \"@card\": \"red rectangle shaded 3\"\n",
      "    },\n",
      "    {\n",
      "      \"@abstime\": \"58583\",\n",
      "      \"@card\": \"purple rectangle empty 1\"\n",
      "    },\n",
      "    {\n",
      "      \"@abstime\": \"59335\",\n",
      "      \"@card\": \"green rectangle filled 3\"\n",
      "    },\n",
      "    {\n",
      "      \"@abstime\": \"60087\",\n",
      "      \"@card\": \"purple wiggle filled 3\"\n",
      "    },\n",
      "    {\n",
      "      \"@abstime\": \"76744\",\n",
      "      \"@card\": \"red wiggle shaded 2\"\n",
      "    },\n",
      "    {\n",
      "      \"@abstime\": \"77496\",\n",
      "      \"@card\": \"purple oval empty 2\"\n",
      "    },\n",
      "    {\n",
      "      \"@abstime\": \"78248\",\n",
      "      \"@card\": \"green oval empty 3\"\n",
      "    },\n",
      "    {\n",
      "      \"@abstime\": \"93041\",\n",
      "      \"@card\": \"red wiggle empty 1\"\n",
      "    },\n",
      "    {\n",
      "      \"@abstime\": \"93794\",\n",
      "      \"@card\": \"purple rectangle empty 3\"\n",
      "    },\n",
      "    {\n",
      "      \"@abstime\": \"94554\",\n",
      "      \"@card\": \"red wiggle filled 3\"\n",
      "    },\n",
      "    {\n",
      "      \"@abstime\": \"97566\",\n",
      "      \"@card\": \"green rectangle filled 1\"\n",
      "    },\n",
      "    {\n",
      "      \"@abstime\": \"98318\",\n",
      "      \"@card\": \"red oval filled 2\"\n",
      "    },\n",
      "    {\n",
      "      \"@abstime\": \"99070\",\n",
      "      \"@card\": \"purple oval empty 3\"\n",
      "    },\n",
      "    {\n",
      "      \"@abstime\": \"104066\",\n",
      "      \"@card\": \"red wiggle empty 3\"\n",
      "    },\n",
      "    {\n",
      "      \"@abstime\": \"104818\",\n",
      "      \"@card\": \"purple rectangle filled 1\"\n",
      "    },\n",
      "    {\n",
      "      \"@abstime\": \"105570\",\n",
      "      \"@card\": \"red oval empty 3\"\n",
      "    },\n",
      "    {\n",
      "      \"@abstime\": \"121463\",\n",
      "      \"@card\": \"green oval filled 2\"\n",
      "    },\n",
      "    {\n",
      "      \"@abstime\": \"122215\",\n",
      "      \"@card\": \"green wiggle empty 1\"\n",
      "    },\n",
      "    {\n",
      "      \"@abstime\": \"122967\",\n",
      "      \"@card\": \"red rectangle shaded 2\"\n",
      "    },\n",
      "    {\n",
      "      \"@abstime\": \"124539\",\n",
      "      \"@card\": \"green wiggle shaded 1\"\n",
      "    },\n",
      "    {\n",
      "      \"@abstime\": \"125291\",\n",
      "      \"@card\": \"purple wiggle shaded 1\"\n",
      "    },\n",
      "    {\n",
      "      \"@abstime\": \"126044\",\n",
      "      \"@card\": \"green rectangle empty 1\"\n",
      "    },\n",
      "    {\n",
      "      \"@abstime\": \"139464\",\n",
      "      \"@card\": \"purple wiggle empty 2\"\n",
      "    },\n",
      "    {\n",
      "      \"@abstime\": \"140216\",\n",
      "      \"@card\": \"red oval empty 2\"\n",
      "    },\n",
      "    {\n",
      "      \"@abstime\": \"140968\",\n",
      "      \"@card\": \"red wiggle filled 1\"\n",
      "    },\n",
      "    {\n",
      "      \"@abstime\": \"142360\",\n",
      "      \"@card\": \"purple rectangle shaded 1\"\n",
      "    },\n",
      "    {\n",
      "      \"@abstime\": \"143112\",\n",
      "      \"@card\": \"purple wiggle shaded 2\"\n",
      "    },\n",
      "    {\n",
      "      \"@abstime\": \"143865\",\n",
      "      \"@card\": \"green oval empty 1\"\n",
      "    },\n",
      "    {\n",
      "      \"@abstime\": \"144617\",\n",
      "      \"@card\": \"red rectangle filled 3\"\n",
      "    },\n",
      "    {\n",
      "      \"@abstime\": \"145369\",\n",
      "      \"@card\": \"green oval empty 2\"\n",
      "    },\n",
      "    {\n",
      "      \"@abstime\": \"146121\",\n",
      "      \"@card\": \"green rectangle shaded 2\"\n",
      "    },\n",
      "    {\n",
      "      \"@abstime\": \"147481\",\n",
      "      \"@card\": \"green rectangle filled 2\"\n",
      "    },\n",
      "    {\n",
      "      \"@abstime\": \"148233\",\n",
      "      \"@card\": \"green oval filled 3\"\n",
      "    },\n",
      "    {\n",
      "      \"@abstime\": \"148985\",\n",
      "      \"@card\": \"purple wiggle filled 2\"\n",
      "    },\n",
      "    {\n",
      "      \"@abstime\": \"157606\",\n",
      "      \"@card\": \"green rectangle shaded 3\"\n",
      "    },\n",
      "    {\n",
      "      \"@abstime\": \"158358\",\n",
      "      \"@card\": \"green wiggle filled 2\"\n",
      "    },\n",
      "    {\n",
      "      \"@abstime\": \"159110\",\n",
      "      \"@card\": \"purple oval filled 3\"\n",
      "    },\n",
      "    {\n",
      "      \"@abstime\": \"171834\",\n",
      "      \"@card\": \"purple oval filled 1\"\n",
      "    },\n",
      "    {\n",
      "      \"@abstime\": \"172586\",\n",
      "      \"@card\": \"purple oval shaded 3\"\n",
      "    },\n",
      "    {\n",
      "      \"@abstime\": \"173338\",\n",
      "      \"@card\": \"red oval filled 3\"\n",
      "    },\n",
      "    {\n",
      "      \"@abstime\": \"177207\",\n",
      "      \"@card\": \"red rectangle filled 2\"\n",
      "    },\n",
      "    {\n",
      "      \"@abstime\": \"177959\",\n",
      "      \"@card\": \"purple oval filled 2\"\n",
      "    },\n",
      "    {\n",
      "      \"@abstime\": \"178711\",\n",
      "      \"@card\": \"green wiggle empty 2\"\n",
      "    },\n",
      "    {\n",
      "      \"@abstime\": \"187851\",\n",
      "      \"@card\": \"red rectangle empty 3\"\n",
      "    },\n",
      "    {\n",
      "      \"@abstime\": \"188603\",\n",
      "      \"@card\": \"green rectangle empty 3\"\n",
      "    },\n",
      "    {\n",
      "      \"@abstime\": \"189355\",\n",
      "      \"@card\": \"red oval filled 1\"\n",
      "    },\n",
      "    {\n",
      "      \"@abstime\": \"194284\",\n",
      "      \"@card\": \"purple rectangle empty 2\"\n",
      "    },\n",
      "    {\n",
      "      \"@abstime\": \"195044\",\n",
      "      \"@card\": \"purple rectangle filled 2\"\n",
      "    },\n",
      "    {\n",
      "      \"@abstime\": \"195796\",\n",
      "      \"@card\": \"purple oval empty 1\"\n",
      "    },\n",
      "    {\n",
      "      \"@abstime\": \"224018\",\n",
      "      \"@card\": \"green rectangle empty 2\"\n",
      "    },\n",
      "    {\n",
      "      \"@abstime\": \"224770\",\n",
      "      \"@card\": \"red oval shaded 1\"\n",
      "    },\n",
      "    {\n",
      "      \"@abstime\": \"225522\",\n",
      "      \"@card\": \"green wiggle shaded 2\"\n",
      "    },\n",
      "    {\n",
      "      \"@abstime\": \"226278\",\n",
      "      \"@card\": \"red wiggle filled 2\"\n",
      "    },\n",
      "    {\n",
      "      \"@abstime\": \"227030\",\n",
      "      \"@card\": \"green oval shaded 3\"\n",
      "    },\n",
      "    {\n",
      "      \"@abstime\": \"227782\",\n",
      "      \"@card\": \"green rectangle shaded 1\"\n",
      "    },\n",
      "    {\n",
      "      \"@abstime\": \"231334\",\n",
      "      \"@card\": \"purple rectangle filled 3\"\n",
      "    },\n",
      "    {\n",
      "      \"@abstime\": \"232086\",\n",
      "      \"@card\": \"green oval shaded 2\"\n",
      "    },\n",
      "    {\n",
      "      \"@abstime\": \"232838\",\n",
      "      \"@card\": \"red oval empty 1\"\n",
      "    },\n",
      "    {\n",
      "      \"@abstime\": \"238130\",\n",
      "      \"@card\": \"green wiggle filled 1\"\n",
      "    },\n",
      "    {\n",
      "      \"@abstime\": \"238883\",\n",
      "      \"@card\": \"purple wiggle empty 1\"\n",
      "    },\n",
      "    {\n",
      "      \"@abstime\": \"239635\",\n",
      "      \"@card\": \"red rectangle empty 1\"\n",
      "    }\n",
      "  ],\n",
      "  \"taken\": [\n",
      "    {\n",
      "      \"@abstime\": \"11278\",\n",
      "      \"@card0\": \"red wiggle shaded 3\",\n",
      "      \"@card1\": \"purple wiggle shaded 3\",\n",
      "      \"@card2\": \"green wiggle shaded 3\"\n",
      "    },\n",
      "    {\n",
      "      \"@abstime\": \"30409\",\n",
      "      \"@card0\": \"green wiggle empty 3\",\n",
      "      \"@card1\": \"purple oval shaded 2\",\n",
      "      \"@card2\": \"red rectangle filled 1\"\n",
      "    },\n",
      "    {\n",
      "      \"@abstime\": \"53186\",\n",
      "      \"@card0\": \"red wiggle empty 2\",\n",
      "      \"@card1\": \"purple rectangle shaded 3\",\n",
      "      \"@card2\": \"green oval filled 1\"\n",
      "    },\n",
      "    {\n",
      "      \"@abstime\": \"57820\",\n",
      "      \"@card0\": \"red wiggle shaded 1\",\n",
      "      \"@card1\": \"red oval shaded 2\",\n",
      "      \"@card2\": \"red rectangle shaded 3\"\n",
      "    },\n",
      "    {\n",
      "      \"@abstime\": \"75989\",\n",
      "      \"@card0\": \"green rectangle filled 3\",\n",
      "      \"@card1\": \"red oval shaded 3\",\n",
      "      \"@card2\": \"purple wiggle empty 3\"\n",
      "    },\n",
      "    {\n",
      "      \"@abstime\": \"92286\",\n",
      "      \"@card0\": \"green wiggle filled 3\",\n",
      "      \"@card1\": \"purple oval empty 2\",\n",
      "      \"@card2\": \"red rectangle shaded 1\"\n",
      "    },\n",
      "    {\n",
      "      \"@abstime\": \"96809\",\n",
      "      \"@card0\": \"red wiggle shaded 2\",\n",
      "      \"@card1\": \"red wiggle empty 1\",\n",
      "      \"@card2\": \"red wiggle filled 3\"\n",
      "    },\n",
      "    {\n",
      "      \"@abstime\": \"103312\",\n",
      "      \"@card0\": \"purple rectangle shaded 2\",\n",
      "      \"@card1\": \"purple wiggle filled 1\",\n",
      "      \"@card2\": \"purple oval empty 3\"\n",
      "    },\n",
      "    {\n",
      "      \"@abstime\": \"120711\",\n",
      "      \"@card0\": \"green rectangle filled 1\",\n",
      "      \"@card1\": \"red oval filled 2\",\n",
      "      \"@card2\": \"purple wiggle filled 3\"\n",
      "    },\n",
      "    {\n",
      "      \"@abstime\": \"123776\",\n",
      "      \"@card0\": \"green oval filled 2\",\n",
      "      \"@card1\": \"green oval shaded 1\",\n",
      "      \"@card2\": \"green oval empty 3\"\n",
      "    },\n",
      "    {\n",
      "      \"@abstime\": \"138710\",\n",
      "      \"@card0\": \"red rectangle empty 2\",\n",
      "      \"@card1\": \"purple rectangle empty 3\",\n",
      "      \"@card2\": \"green rectangle empty 1\"\n",
      "    },\n",
      "    {\n",
      "      \"@abstime\": \"141607\",\n",
      "      \"@card0\": \"purple wiggle empty 2\",\n",
      "      \"@card1\": \"red wiggle empty 3\",\n",
      "      \"@card2\": \"green wiggle empty 1\"\n",
      "    },\n",
      "    {\n",
      "      \"@abstime\": \"143827\",\n",
      "      \"@card0\": \"red rectangle shaded 2\",\n",
      "      \"@card1\": \"red wiggle filled 1\",\n",
      "      \"@card2\": \"red oval empty 3\"\n",
      "    },\n",
      "    {\n",
      "      \"@abstime\": \"146728\",\n",
      "      \"@card0\": \"purple wiggle shaded 1\",\n",
      "      \"@card1\": \"purple rectangle shaded 1\",\n",
      "      \"@card2\": \"purple oval shaded 1\"\n",
      "    },\n",
      "    {\n",
      "      \"@abstime\": \"156844\",\n",
      "      \"@card0\": \"purple wiggle shaded 2\",\n",
      "      \"@card1\": \"green oval empty 1\",\n",
      "      \"@card2\": \"red rectangle filled 3\"\n",
      "    },\n",
      "    {\n",
      "      \"@abstime\": \"171078\",\n",
      "      \"@card0\": \"purple wiggle filled 2\",\n",
      "      \"@card1\": \"red oval empty 2\",\n",
      "      \"@card2\": \"green rectangle shaded 2\"\n",
      "    },\n",
      "    {\n",
      "      \"@abstime\": \"176450\",\n",
      "      \"@card0\": \"green oval filled 3\",\n",
      "      \"@card1\": \"purple oval filled 3\",\n",
      "      \"@card2\": \"red oval filled 3\"\n",
      "    },\n",
      "    {\n",
      "      \"@abstime\": \"187097\",\n",
      "      \"@card0\": \"red rectangle filled 2\",\n",
      "      \"@card1\": \"green wiggle filled 2\",\n",
      "      \"@card2\": \"purple oval filled 2\"\n",
      "    },\n",
      "    {\n",
      "      \"@abstime\": \"193528\",\n",
      "      \"@card0\": \"purple oval shaded 3\",\n",
      "      \"@card1\": \"red oval filled 1\",\n",
      "      \"@card2\": \"green oval empty 2\"\n",
      "    },\n",
      "    {\n",
      "      \"@abstime\": \"223254\",\n",
      "      \"@card0\": \"red rectangle empty 3\",\n",
      "      \"@card1\": \"purple oval empty 1\",\n",
      "      \"@card2\": \"green wiggle empty 2\"\n",
      "    },\n",
      "    {\n",
      "      \"@abstime\": \"230577\",\n",
      "      \"@card0\": \"green wiggle shaded 2\",\n",
      "      \"@card1\": \"green oval shaded 3\",\n",
      "      \"@card2\": \"green rectangle shaded 1\"\n",
      "    },\n",
      "    {\n",
      "      \"@abstime\": \"234566\",\n",
      "      \"@card0\": \"green wiggle shaded 1\",\n",
      "      \"@card1\": \"green rectangle shaded 3\",\n",
      "      \"@card2\": \"green oval shaded 2\"\n",
      "    },\n",
      "    {\n",
      "      \"@abstime\": \"237370\",\n",
      "      \"@card0\": \"purple rectangle filled 1\",\n",
      "      \"@card1\": \"purple rectangle filled 2\",\n",
      "      \"@card2\": \"purple rectangle filled 3\"\n",
      "    },\n",
      "    {\n",
      "      \"@abstime\": \"243089\",\n",
      "      \"@card0\": \"green rectangle empty 3\",\n",
      "      \"@card1\": \"red rectangle empty 1\",\n",
      "      \"@card2\": \"purple rectangle empty 2\"\n",
      "    },\n",
      "    {\n",
      "      \"@abstime\": \"250627\",\n",
      "      \"@card0\": \"purple rectangle empty 1\",\n",
      "      \"@card1\": \"green wiggle filled 1\",\n",
      "      \"@card2\": \"red oval shaded 1\"\n",
      "    }\n",
      "  ]\n",
      "}\n"
     ]
    }
   ],
   "source": [
    "print(json.dumps(buf['timetrials']['timetrial'][0], indent=2))"
   ]
  },
  {
   "cell_type": "code",
   "execution_count": 39,
   "metadata": {
    "collapsed": true
   },
   "outputs": [],
   "source": [
    "json.dump(buf['timetrials']['timetrial'], open(\"../data/all.json\", \"w\"), indent=2)\n",
    "# about 2s - for the small"
   ]
  },
  {
   "cell_type": "code",
   "execution_count": 48,
   "metadata": {
    "collapsed": true
   },
   "outputs": [],
   "source": [
    "games = [{'username': v['username'], 'userid': v['userid'], 'started': v['started'], 'game_id': i}\n",
    "         for i, v in enumerate(buf['timetrials']['timetrial'])]\n",
    "    "
   ]
  },
  {
   "cell_type": "code",
   "execution_count": 51,
   "metadata": {
    "collapsed": false
   },
   "outputs": [],
   "source": [
    "games_df = pd.DataFrame(games).set_index('game_id')"
   ]
  },
  {
   "cell_type": "code",
   "execution_count": 52,
   "metadata": {
    "collapsed": false
   },
   "outputs": [
    {
     "data": {
      "text/html": [
       "<div>\n",
       "<table border=\"1\" class=\"dataframe\">\n",
       "  <thead>\n",
       "    <tr style=\"text-align: right;\">\n",
       "      <th></th>\n",
       "      <th>started</th>\n",
       "      <th>userid</th>\n",
       "      <th>username</th>\n",
       "    </tr>\n",
       "    <tr>\n",
       "      <th>game_id</th>\n",
       "      <th></th>\n",
       "      <th></th>\n",
       "      <th></th>\n",
       "    </tr>\n",
       "  </thead>\n",
       "  <tbody>\n",
       "    <tr>\n",
       "      <th>0</th>\n",
       "      <td>2007-11-29 15:11:16</td>\n",
       "      <td>1</td>\n",
       "      <td>Hel</td>\n",
       "    </tr>\n",
       "    <tr>\n",
       "      <th>1</th>\n",
       "      <td>2007-11-29 15:32:58</td>\n",
       "      <td>62</td>\n",
       "      <td>AVC</td>\n",
       "    </tr>\n",
       "    <tr>\n",
       "      <th>2</th>\n",
       "      <td>2007-11-29 15:34:55</td>\n",
       "      <td>125</td>\n",
       "      <td>ssilver</td>\n",
       "    </tr>\n",
       "    <tr>\n",
       "      <th>3</th>\n",
       "      <td>2007-11-29 16:22:36</td>\n",
       "      <td>false</td>\n",
       "      <td>Weasle</td>\n",
       "    </tr>\n",
       "    <tr>\n",
       "      <th>4</th>\n",
       "      <td>2007-11-29 16:50:09</td>\n",
       "      <td>false</td>\n",
       "      <td>jana</td>\n",
       "    </tr>\n",
       "  </tbody>\n",
       "</table>\n",
       "</div>"
      ],
      "text/plain": [
       "                     started userid username\n",
       "game_id                                     \n",
       "0        2007-11-29 15:11:16      1      Hel\n",
       "1        2007-11-29 15:32:58     62      AVC\n",
       "2        2007-11-29 15:34:55    125  ssilver\n",
       "3        2007-11-29 16:22:36  false   Weasle\n",
       "4        2007-11-29 16:50:09  false     jana"
      ]
     },
     "execution_count": 52,
     "metadata": {},
     "output_type": "execute_result"
    }
   ],
   "source": [
    "games_df.head()"
   ]
  },
  {
   "cell_type": "code",
   "execution_count": 53,
   "metadata": {
    "collapsed": true
   },
   "outputs": [],
   "source": [
    "games_df.to_csv(\"../data/games.csv\")"
   ]
  },
  {
   "cell_type": "code",
   "execution_count": null,
   "metadata": {
    "collapsed": false
   },
   "outputs": [],
   "source": [
    "for i, v in enumerate(buf['timetrials']['timetrial']):\n",
    "    for each in v['dealt']:\n",
    "        each['game_id'] = i\n",
    "    for each in v['taken']:\n",
    "        each['game_id'] = i"
   ]
  },
  {
   "cell_type": "code",
   "execution_count": 1,
   "metadata": {
    "collapsed": false
   },
   "outputs": [
    {
     "data": {
      "text/plain": [
       "4"
      ]
     },
     "execution_count": 1,
     "metadata": {},
     "output_type": "execute_result"
    }
   ],
   "source": [
    "2 + 2"
   ]
  },
  {
   "cell_type": "code",
   "execution_count": 2,
   "metadata": {
    "collapsed": true
   },
   "outputs": [],
   "source": [
    "tts = json.load(open(\"../data/all.json\"))"
   ]
  },
  {
   "cell_type": "code",
   "execution_count": 3,
   "metadata": {
    "collapsed": false
   },
   "outputs": [
    {
     "data": {
      "text/plain": [
       "35236"
      ]
     },
     "execution_count": 3,
     "metadata": {},
     "output_type": "execute_result"
    }
   ],
   "source": [
    "len(tts)"
   ]
  },
  {
   "cell_type": "code",
   "execution_count": 5,
   "metadata": {
    "collapsed": false
   },
   "outputs": [
    {
     "name": "stdout",
     "output_type": "stream",
     "text": [
      "0 1000 2000 3000 4000 5000 6000 7000 8000 9000 10000 11000 12000 13000 14000 15000 16000 17000 18000 19000 20000 21000 22000 23000 24000 25000 26000 27000 28000 29000 30000 31000 32000 33000 34000 35000 "
     ]
    }
   ],
   "source": [
    "for i, tt in enumerate(tts):\n",
    "    if i % 1000 == 0:\n",
    "        print(i, end=\" \")\n",
    "    for each in tt['dealt']:\n",
    "        each['game_id'] = i\n",
    "    for each in tt['taken']:\n",
    "        each['game_id'] = i"
   ]
  },
  {
   "cell_type": "code",
   "execution_count": 7,
   "metadata": {
    "collapsed": false
   },
   "outputs": [
    {
     "name": "stdout",
     "output_type": "stream",
     "text": [
      "0 1000 2000 3000 4000 5000 6000 7000 8000 9000 10000 11000 12000 13000 14000 15000 16000 17000 18000 19000 20000 21000 22000 23000 24000 25000 26000 27000 28000 29000 30000 31000 32000 33000 34000 35000 "
     ]
    }
   ],
   "source": [
    "dealts = []\n",
    "for i, tt in enumerate(tts):\n",
    "    if i % 1000 == 0:\n",
    "        print(i, end=\" \")\n",
    "    dealts += tt['dealt']"
   ]
  },
  {
   "cell_type": "code",
   "execution_count": 8,
   "metadata": {
    "collapsed": false
   },
   "outputs": [
    {
     "name": "stdout",
     "output_type": "stream",
     "text": [
      "0 1000 2000 3000 4000 5000 6000 7000 8000 9000 10000 11000 12000 13000 14000 15000 16000 17000 18000 19000 20000 21000 22000 23000 24000 25000 26000 27000 28000 29000 30000 31000 32000 33000 34000 35000 "
     ]
    }
   ],
   "source": [
    "takens = []\n",
    "for i, tt in enumerate(tts):\n",
    "    if i % 1000 == 0:\n",
    "        print(i, end=\" \")\n",
    "    takens += tt['taken']"
   ]
  },
  {
   "cell_type": "code",
   "execution_count": 10,
   "metadata": {
    "collapsed": false
   },
   "outputs": [],
   "source": [
    "dealts_df = pd.DataFrame(dealts)"
   ]
  },
  {
   "cell_type": "code",
   "execution_count": 11,
   "metadata": {
    "collapsed": false
   },
   "outputs": [
    {
     "data": {
      "text/html": [
       "<div>\n",
       "<table border=\"1\" class=\"dataframe\">\n",
       "  <thead>\n",
       "    <tr style=\"text-align: right;\">\n",
       "      <th></th>\n",
       "      <th>@abstime</th>\n",
       "      <th>@card</th>\n",
       "      <th>game_id</th>\n",
       "    </tr>\n",
       "  </thead>\n",
       "  <tbody>\n",
       "    <tr>\n",
       "      <th>0</th>\n",
       "      <td>756</td>\n",
       "      <td>red wiggle empty 2</td>\n",
       "      <td>0</td>\n",
       "    </tr>\n",
       "    <tr>\n",
       "      <th>1</th>\n",
       "      <td>1508</td>\n",
       "      <td>red wiggle shaded 3</td>\n",
       "      <td>0</td>\n",
       "    </tr>\n",
       "    <tr>\n",
       "      <th>2</th>\n",
       "      <td>2260</td>\n",
       "      <td>green oval shaded 1</td>\n",
       "      <td>0</td>\n",
       "    </tr>\n",
       "    <tr>\n",
       "      <th>3</th>\n",
       "      <td>3012</td>\n",
       "      <td>purple rectangle shaded 3</td>\n",
       "      <td>0</td>\n",
       "    </tr>\n",
       "    <tr>\n",
       "      <th>4</th>\n",
       "      <td>3764</td>\n",
       "      <td>green wiggle empty 3</td>\n",
       "      <td>0</td>\n",
       "    </tr>\n",
       "  </tbody>\n",
       "</table>\n",
       "</div>"
      ],
      "text/plain": [
       "  @abstime                      @card  game_id\n",
       "0      756         red wiggle empty 2        0\n",
       "1     1508        red wiggle shaded 3        0\n",
       "2     2260        green oval shaded 1        0\n",
       "3     3012  purple rectangle shaded 3        0\n",
       "4     3764       green wiggle empty 3        0"
      ]
     },
     "execution_count": 11,
     "metadata": {},
     "output_type": "execute_result"
    }
   ],
   "source": [
    "dealts_df.head()"
   ]
  },
  {
   "cell_type": "code",
   "execution_count": 12,
   "metadata": {
    "collapsed": true
   },
   "outputs": [],
   "source": [
    "dealts_df = dealts_df.rename(columns={\"@abstime\": \"abstime\", \"@card\": \"card\"})[[\"game_id\", \"abstime\", \"card\"]]"
   ]
  },
  {
   "cell_type": "code",
   "execution_count": 14,
   "metadata": {
    "collapsed": false
   },
   "outputs": [],
   "source": [
    "dealts_df[\"abstime\"] = dealts_df[\"abstime\"].astype(int)"
   ]
  },
  {
   "cell_type": "code",
   "execution_count": 15,
   "metadata": {
    "collapsed": true
   },
   "outputs": [],
   "source": [
    "dealts_df.to_csv(\"../data/deals.csv\", index=False)"
   ]
  },
  {
   "cell_type": "code",
   "execution_count": 16,
   "metadata": {
    "collapsed": true
   },
   "outputs": [],
   "source": [
    "takens_df = pd.DataFrame(takens)"
   ]
  },
  {
   "cell_type": "code",
   "execution_count": 17,
   "metadata": {
    "collapsed": false
   },
   "outputs": [
    {
     "data": {
      "text/html": [
       "<div>\n",
       "<table border=\"1\" class=\"dataframe\">\n",
       "  <thead>\n",
       "    <tr style=\"text-align: right;\">\n",
       "      <th></th>\n",
       "      <th>@abstime</th>\n",
       "      <th>@card0</th>\n",
       "      <th>@card1</th>\n",
       "      <th>@card2</th>\n",
       "      <th>game_id</th>\n",
       "    </tr>\n",
       "  </thead>\n",
       "  <tbody>\n",
       "    <tr>\n",
       "      <th>0</th>\n",
       "      <td>11278</td>\n",
       "      <td>red wiggle shaded 3</td>\n",
       "      <td>purple wiggle shaded 3</td>\n",
       "      <td>green wiggle shaded 3</td>\n",
       "      <td>0</td>\n",
       "    </tr>\n",
       "    <tr>\n",
       "      <th>1</th>\n",
       "      <td>30409</td>\n",
       "      <td>green wiggle empty 3</td>\n",
       "      <td>purple oval shaded 2</td>\n",
       "      <td>red rectangle filled 1</td>\n",
       "      <td>0</td>\n",
       "    </tr>\n",
       "    <tr>\n",
       "      <th>2</th>\n",
       "      <td>53186</td>\n",
       "      <td>red wiggle empty 2</td>\n",
       "      <td>purple rectangle shaded 3</td>\n",
       "      <td>green oval filled 1</td>\n",
       "      <td>0</td>\n",
       "    </tr>\n",
       "    <tr>\n",
       "      <th>3</th>\n",
       "      <td>57820</td>\n",
       "      <td>red wiggle shaded 1</td>\n",
       "      <td>red oval shaded 2</td>\n",
       "      <td>red rectangle shaded 3</td>\n",
       "      <td>0</td>\n",
       "    </tr>\n",
       "    <tr>\n",
       "      <th>4</th>\n",
       "      <td>75989</td>\n",
       "      <td>green rectangle filled 3</td>\n",
       "      <td>red oval shaded 3</td>\n",
       "      <td>purple wiggle empty 3</td>\n",
       "      <td>0</td>\n",
       "    </tr>\n",
       "  </tbody>\n",
       "</table>\n",
       "</div>"
      ],
      "text/plain": [
       "  @abstime                    @card0                     @card1  \\\n",
       "0    11278       red wiggle shaded 3     purple wiggle shaded 3   \n",
       "1    30409      green wiggle empty 3       purple oval shaded 2   \n",
       "2    53186        red wiggle empty 2  purple rectangle shaded 3   \n",
       "3    57820       red wiggle shaded 1          red oval shaded 2   \n",
       "4    75989  green rectangle filled 3          red oval shaded 3   \n",
       "\n",
       "                   @card2  game_id  \n",
       "0   green wiggle shaded 3        0  \n",
       "1  red rectangle filled 1        0  \n",
       "2     green oval filled 1        0  \n",
       "3  red rectangle shaded 3        0  \n",
       "4   purple wiggle empty 3        0  "
      ]
     },
     "execution_count": 17,
     "metadata": {},
     "output_type": "execute_result"
    }
   ],
   "source": [
    "takens_df.head()"
   ]
  },
  {
   "cell_type": "code",
   "execution_count": 18,
   "metadata": {
    "collapsed": true
   },
   "outputs": [],
   "source": [
    "takens_df.columns = [col.replace(\"@\", \"\") for col in takens_df.columns]"
   ]
  },
  {
   "cell_type": "code",
   "execution_count": 20,
   "metadata": {
    "collapsed": true
   },
   "outputs": [],
   "source": [
    "takens_df[\"abstime\"] = takens_df[\"abstime\"].astype(int)"
   ]
  },
  {
   "cell_type": "code",
   "execution_count": 21,
   "metadata": {
    "collapsed": false
   },
   "outputs": [
    {
     "data": {
      "text/plain": [
       "Index(['abstime', 'card0', 'card1', 'card2', 'game_id'], dtype='object')"
      ]
     },
     "execution_count": 21,
     "metadata": {},
     "output_type": "execute_result"
    }
   ],
   "source": [
    "takens_df.columns"
   ]
  },
  {
   "cell_type": "code",
   "execution_count": 22,
   "metadata": {
    "collapsed": true
   },
   "outputs": [],
   "source": [
    "takens_df = takens_df[['game_id', 'abstime', 'card0', 'card1', 'card2']]"
   ]
  },
  {
   "cell_type": "code",
   "execution_count": 23,
   "metadata": {
    "collapsed": true
   },
   "outputs": [],
   "source": [
    "takens_df.to_csv(\"../data/takes.csv\", index=False)"
   ]
  },
  {
   "cell_type": "code",
   "execution_count": null,
   "metadata": {
    "collapsed": true
   },
   "outputs": [],
   "source": []
  }
 ],
 "metadata": {
  "kernelspec": {
   "display_name": "Python 3",
   "language": "python",
   "name": "python3"
  },
  "language_info": {
   "codemirror_mode": {
    "name": "ipython",
    "version": 3
   },
   "file_extension": ".py",
   "mimetype": "text/x-python",
   "name": "python",
   "nbconvert_exporter": "python",
   "pygments_lexer": "ipython3",
   "version": "3.4.3"
  }
 },
 "nbformat": 4,
 "nbformat_minor": 0
}
